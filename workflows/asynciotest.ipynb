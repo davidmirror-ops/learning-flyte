{
 "cells": [
  {
   "cell_type": "code",
   "execution_count": 37,
   "metadata": {},
   "outputs": [],
   "source": [
    "import os\n",
    "from pathlib import Path\n",
    "\n",
    "os.environ[\"FLYTECTL_CONFIG\"] = str(Path.home() / \".flyte/config-sandbox.yaml\") "
   ]
  },
  {
   "cell_type": "code",
   "execution_count": null,
   "metadata": {},
   "outputs": [],
   "source": [
    "%pip install -r ./requirements.txt \"flytekit==1.14.0b6\""
   ]
  },
  {
   "cell_type": "code",
   "execution_count": 39,
   "metadata": {},
   "outputs": [],
   "source": [
    "import flytekit as fl\n",
    "import sys\n",
    "\n",
    "custom_image = fl.ImageSpec(\n",
    "    name=\"async-testing\",\n",
    "    requirements=\"./requirements.txt\",\n",
    "    python_version=f\"{sys.version_info.major}.{sys.version_info.minor}\",\n",
    "    registry=\"localhost:30000\",#this is the container registry that ships with Flyte sandbox, but you can use any other\n",
    "    platform=\"linux/arm64\",\n",
    " )\n",
    "\n"
   ]
  },
  {
   "cell_type": "code",
   "execution_count": 40,
   "metadata": {},
   "outputs": [],
   "source": [
    "import os\n",
    "import platform\n",
    "import subprocess\n",
    "import typing\n",
    "from pathlib import Path\n",
    "import asyncio\n",
    "\n",
    "from flytekit import task, workflow, ImageSpec, Resources, WorkflowFailurePolicy\n",
    "from flytekit.core.utils import timeit\n",
    "from flytekit.types.file import FlyteFile\n",
    "from flytekit.types.directory import FlyteDirectory"
   ]
  },
  {
   "cell_type": "code",
   "execution_count": 41,
   "metadata": {},
   "outputs": [],
   "source": [
    "# Enable debugging\n",
    "envs = {}\n",
    "\n",
    "\n",
    "mbytes_to_bytes = lambda x: x * 1024 * 1024\n",
    "\n",
    "\n",
    "def fallocate(file_path: str, num_bytes: int):\n",
    "    try:\n",
    "        # Run the fallocate command to preallocate space to the file\n",
    "        subprocess.run([\"fallocate\", \"-l\", str(num_bytes), file_path], check=True)\n",
    "        print(f\"Allocated {num_bytes} bytes to {file_path}\")\n",
    "    except subprocess.CalledProcessError as e:\n",
    "        print(f\"Error: {e}\")\n",
    "\n",
    "\n",
    "def dd(file_path: str, num_bytes: int):\n",
    "    try:\n",
    "        # Run the dd command to write to the file\n",
    "        subprocess.run([\"dd\", \"if=/dev/urandom\", f\"of={file_path}\", f\"bs={num_bytes}\", f\"count=1\"], check=True)\n",
    "        print(f\"Wrote {num_bytes} bytes to {file_path}\")\n",
    "    except subprocess.CalledProcessError as e:\n",
    "        print(f\"Error: {e}\")\n",
    "\n",
    "\n",
    "@timeit(\"generate_files\")\n",
    "def generate_files(count: int, size_bytes: int, parent: Path) -> typing.List[Path]:\n",
    "    if parent.exists() and not parent.is_dir():\n",
    "        raise ValueError(f\"{parent} is not a directory\")\n",
    "    parent.mkdir(parents=True, exist_ok=True)\n",
    "\n",
    "    for i in range(count):\n",
    "        p = parent / f\"file_{i}.bin\"\n",
    "        if platform.system() == \"Darwin\":\n",
    "            dd(str(p), size_bytes)\n",
    "        else:\n",
    "            fallocate(str(p), size_bytes)\n",
    "\n",
    "    return [parent / f\"file_{i}.bin\" for i in range(count)]\n",
    "\n",
    "\n",
    "def generate_and_upload_list(count: int, num_bytes: int) -> typing.List[FlyteFile]:\n",
    "    parent = Path(\"/home/flytekit/temp/gen\")\n",
    "    files = generate_files(count, num_bytes, parent)\n",
    "    return [FlyteFile(path=str(f)) for f in files]\n",
    "\n",
    "\n",
    "@task(enable_deck=True, requests=Resources(cpu=\"1\", mem=\"3Gi\"))\n",
    "def generate_list_async(count: int, num_m_bytes: int) -> typing.List[FlyteFile]:\n",
    "    num_bytes = mbytes_to_bytes(num_m_bytes)\n",
    "    return generate_and_upload_list(count=count, num_bytes=num_bytes)\n",
    "\n",
    "\n",
    "@task(container_image=custom_image, enable_deck=True, requests=Resources(cpu=\"1\", mem=\"3Gi\"))\n",
    "def generate_list_current(count: int, num_m_bytes: int) -> typing.List[FlyteFile]:\n",
    "    num_bytes = mbytes_to_bytes(num_m_bytes)\n",
    "    return generate_and_upload_list(count=count, num_bytes=num_bytes)\n",
    "\n",
    "\n",
    "@task(enable_deck=True, requests=Resources(cpu=\"1\", mem=\"3Gi\"))\n",
    "def generate_folder_async(count: int, num_m_bytes: int) -> FlyteDirectory:\n",
    "    num_bytes = mbytes_to_bytes(num_m_bytes)\n",
    "    files = generate_and_upload_list(count=count, num_bytes=num_bytes)\n",
    "    parent_folder = str(Path(files[0].path).parent)\n",
    "    return FlyteDirectory(path=parent_folder)\n",
    "\n",
    "\n",
    "@task(container_image=custom_image, enable_deck=True, requests=Resources(cpu=\"1\", mem=\"3Gi\"))\n",
    "def generate_folder_current(count: int, num_m_bytes: int) -> FlyteDirectory:\n",
    "    num_bytes = mbytes_to_bytes(num_m_bytes)\n",
    "    files = generate_and_upload_list(count=count, num_bytes=num_bytes)\n",
    "    parent_folder = str(Path(files[0].path).parent)\n",
    "    return FlyteDirectory(path=parent_folder)\n",
    "\n",
    "\n",
    "async def download_files(ffs: typing.List[FlyteFile]):\n",
    "    futures = [asyncio.create_task(ff._download()) for ff in ffs]\n",
    "    return await asyncio.gather(*futures, return_exceptions=True)\n",
    "\n",
    "\n",
    "@task(enable_deck=True)\n",
    "def download_list_async(ffs: typing.List[FlyteFile]):\n",
    "    from flytekit.utils.asyn import run_sync\n",
    "\n",
    "    with timeit(\"download files\"):\n",
    "        run_sync(download_files, ffs)\n",
    "    # for x in ffs:\n",
    "    #     local = x.path\n",
    "    #     print(f\"Downloaded {x.remote_source} to {local} size {os.path.getsize(local)}\")\n",
    "\n",
    "\n",
    "# use newer image, but this is a dumb test so it's okay.\n",
    "@task(enable_deck=True)\n",
    "def download_list_serial(ffs: typing.List[FlyteFile]):\n",
    "    for x in ffs:\n",
    "        print(f\"Downloading {x.remote_source} to {x.path}\")\n",
    "        x.download()\n",
    "\n",
    "\n",
    "@workflow(failure_policy=WorkflowFailurePolicy.FAIL_AFTER_EXECUTABLE_NODES_COMPLETE)\n",
    "def wf(count: int = 1000, num_m_bytes: int = 2):\n",
    "    generate_list_current(count=count, num_m_bytes=num_m_bytes)\n",
    "    file_list = generate_list_async(count=count, num_m_bytes=num_m_bytes)\n",
    "    generate_folder_current(count=count, num_m_bytes=num_m_bytes)\n",
    "    generate_folder_async(count=count, num_m_bytes=num_m_bytes)\n",
    "    download_list_async(ffs=file_list)\n",
    "    download_list_serial(ffs=file_list)\n"
   ]
  },
  {
   "cell_type": "code",
   "execution_count": 42,
   "metadata": {},
   "outputs": [
    {
     "data": {
      "text/html": [
       "<pre style=\"white-space:pre;overflow-x:auto;line-height:normal;font-family:Menlo,'DejaVu Sans Mono',consolas,'Courier New',monospace\"><span style=\"color: #7fbfbf; text-decoration-color: #7fbfbf\">13:38:55.042738 </span><span style=\"color: #808000; text-decoration-color: #808000\">WARNING </span> remote.py:<span style=\"color: #008080; text-decoration-color: #008080; font-weight: bold\">286</span> - Jupyter notebook and interactive task  \n",
       "<span style=\"color: #7fbfbf; text-decoration-color: #7fbfbf\">                </span>         support is still alpha.                                \n",
       "</pre>\n"
      ],
      "text/plain": [
       "\u001b[2;36m13:38:55.042738\u001b[0m\u001b[2;36m \u001b[0m\u001b[33mWARNING \u001b[0m remote.py:\u001b[1;36m286\u001b[0m - Jupyter notebook and interactive task  \n",
       "\u001b[2;36m                \u001b[0m         support is still alpha.                                \n"
      ]
     },
     "metadata": {},
     "output_type": "display_data"
    }
   ],
   "source": [
    "from flytekit.remote import FlyteRemote\n",
    "from flytekit.configuration import Config\n",
    "\n",
    "remote = FlyteRemote(\n",
    "        Config.for_sandbox(), \n",
    "        default_project=\"flytesnacks\", \n",
    "        default_domain=\"development\", \n",
    "        interactive_mode_enabled=True,  # Optional in notebooks - automatically enabled\n",
    "    )\n",
    "wf_exec = remote.execute(wf, inputs={}, wait=True)"
   ]
  },
  {
   "cell_type": "markdown",
   "metadata": {},
   "source": []
  },
  {
   "cell_type": "code",
   "execution_count": null,
   "metadata": {},
   "outputs": [],
   "source": []
  }
 ],
 "metadata": {
  "kernelspec": {
   "display_name": "learning-flyte",
   "language": "python",
   "name": "python3"
  },
  "language_info": {
   "codemirror_mode": {
    "name": "ipython",
    "version": 3
   },
   "file_extension": ".py",
   "mimetype": "text/x-python",
   "name": "python",
   "nbconvert_exporter": "python",
   "pygments_lexer": "ipython3",
   "version": "3.10.11"
  }
 },
 "nbformat": 4,
 "nbformat_minor": 2
}
